{
 "cells": [
  {
   "cell_type": "code",
   "execution_count": 1,
   "id": "d67fa311",
   "metadata": {},
   "outputs": [],
   "source": [
    "import sys\n",
    "sys.path.insert(1,'./decoders')\n",
    "sys.path.insert(1,'./Instances_models')\n",
    "sys.path.insert(1,'./Evaluators')\n",
    "from TSP_decoder import TSPDecoder\n",
    "from TSP_instance import TSPInstance\n",
    "import torch\n",
    "import torch.nn as nn\n",
    "import numpy as np\n",
    "import matplotlib.pyplot as plt"
   ]
  },
  {
   "cell_type": "code",
   "execution_count": 2,
   "id": "4b8e82da",
   "metadata": {},
   "outputs": [],
   "source": [
    "instance  = TSPInstance(r'C:\\Users\\Felipe\\Projetos\\Generative models optimization\\Generative-model-optimization\\Instances_data_TSP\\burma14.dat')\n",
    "decoder = TSPDecoder(instance)"
   ]
  },
  {
   "cell_type": "code",
   "execution_count": 4,
   "id": "16d7b817",
   "metadata": {},
   "outputs": [
    {
     "name": "stdout",
     "output_type": "stream",
     "text": [
      "[153.0, 510.0, 706.0, 966.0, 581.0, 455.0, 70.0, 160.0, 372.0, 157.0, 567.0, 342.0, 398.0, 422.0, 664.0, 997.0, 598.0, 507.0, 197.0, 311.0, 479.0, 310.0, 581.0, 417.0, 376.0, 289.0, 744.0, 390.0, 437.0, 491.0, 645.0, 880.0, 618.0, 374.0, 455.0, 211.0, 491.0, 265.0, 410.0, 664.0, 804.0, 1070.0, 768.0, 259.0, 499.0, 310.0, 400.0, 514.0, 902.0, 990.0, 1261.0, 947.0, 418.0, 635.0, 636.0, 168.0, 522.0, 634.0, 910.0, 593.0, 19.0, 284.0, 239.0, 389.0, 482.0, 757.0, 439.0, 163.0, 124.0, 232.0, 154.0, 406.0, 133.0, 508.0, 273.0, 355.0, 276.0, 43.0, 623.0, 358.0, 498.0, 318.0, 898.0, 633.0, 761.0, 582.0, 315.0, 464.0, 275.0, 221.0, 247.0]\n"
     ]
    }
   ],
   "source": [
    "print(instance.distances)"
   ]
  },
  {
   "cell_type": "code",
   "execution_count": null,
   "id": "e100bf0d",
   "metadata": {},
   "outputs": [],
   "source": []
  }
 ],
 "metadata": {
  "kernelspec": {
   "display_name": "Python 3 (ipykernel)",
   "language": "python",
   "name": "python3"
  },
  "language_info": {
   "codemirror_mode": {
    "name": "ipython",
    "version": 3
   },
   "file_extension": ".py",
   "mimetype": "text/x-python",
   "name": "python",
   "nbconvert_exporter": "python",
   "pygments_lexer": "ipython3",
   "version": "3.11.8"
  }
 },
 "nbformat": 4,
 "nbformat_minor": 5
}
