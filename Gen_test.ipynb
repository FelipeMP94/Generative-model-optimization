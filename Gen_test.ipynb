{
 "cells": [
  {
   "cell_type": "code",
   "execution_count": 1,
   "id": "d67fa311",
   "metadata": {},
   "outputs": [
    {
     "ename": "ImportError",
     "evalue": "cannot import name 'evaluator_Best_Mean' from 'evaluators' (C:\\Users\\Felipe\\Projetos\\Generative models optimization\\Generative-model-optimization\\./Evaluators\\evaluators.py)",
     "output_type": "error",
     "traceback": [
      "\u001b[1;31m---------------------------------------------------------------------------\u001b[0m",
      "\u001b[1;31mImportError\u001b[0m                               Traceback (most recent call last)",
      "Cell \u001b[1;32mIn[1], line 7\u001b[0m\n\u001b[0;32m      5\u001b[0m \u001b[38;5;28;01mfrom\u001b[39;00m \u001b[38;5;21;01mTSCFLP_greedy_decoder\u001b[39;00m \u001b[38;5;28;01mimport\u001b[39;00m greedy_decoder\n\u001b[0;32m      6\u001b[0m \u001b[38;5;28;01mfrom\u001b[39;00m \u001b[38;5;21;01mTSCFLP_instance\u001b[39;00m \u001b[38;5;28;01mimport\u001b[39;00m TSCFLPinstance\n\u001b[1;32m----> 7\u001b[0m \u001b[38;5;28;01mfrom\u001b[39;00m \u001b[38;5;21;01mevaluators\u001b[39;00m \u001b[38;5;28;01mimport\u001b[39;00m evaluator_Best_Mean\n\u001b[0;32m      8\u001b[0m \u001b[38;5;28;01mimport\u001b[39;00m \u001b[38;5;21;01mtorch\u001b[39;00m\n\u001b[0;32m      9\u001b[0m \u001b[38;5;28;01mimport\u001b[39;00m \u001b[38;5;21;01mtorch\u001b[39;00m\u001b[38;5;21;01m.\u001b[39;00m\u001b[38;5;21;01mnn\u001b[39;00m \u001b[38;5;28;01mas\u001b[39;00m \u001b[38;5;21;01mnn\u001b[39;00m\n",
      "\u001b[1;31mImportError\u001b[0m: cannot import name 'evaluator_Best_Mean' from 'evaluators' (C:\\Users\\Felipe\\Projetos\\Generative models optimization\\Generative-model-optimization\\./Evaluators\\evaluators.py)"
     ]
    }
   ],
   "source": [
    "import sys\n",
    "sys.path.insert(1,'./Instances_decoders')\n",
    "sys.path.insert(1,'./Instances_models')\n",
    "sys.path.insert(1,'./Evaluators')\n",
    "from TSCFLP_greedy_decoder import greedy_decoder\n",
    "from TSCFLP_instance import TSCFLPinstance\n",
    "from evaluators import evaluator_Best_Mean\n",
    "import torch\n",
    "import torch.nn as nn\n",
    "import numpy as np"
   ]
  },
  {
   "cell_type": "code",
   "execution_count": null,
   "id": "189f42f4",
   "metadata": {},
   "outputs": [],
   "source": [
    "class Generator(nn.Module):\n",
    "    def __init__(self,I,J,population):\n",
    "        super().__init__()\n",
    "        self.population = population\n",
    "        self.rede = nn.Sequential(\n",
    "            nn.Linear(I+J,200),\n",
    "            nn.ReLU(),\n",
    "            nn.Linear(200,300),\n",
    "            nn.ReLU(),\n",
    "            nn.Linear(300,300),\n",
    "            nn.ReLU(),\n",
    "            nn.Linear(300,(I+J)*population),\n",
    "            nn.Sigmoid()\n",
    "        )\n",
    "    def forward(self,ruido):\n",
    "        x = self.rede(ruido)\n",
    "        x = torch.reshape(x,(self.population,150))\n",
    "        return x\n",
    "        \n",
    "        "
   ]
  },
  {
   "cell_type": "code",
   "execution_count": null,
   "id": "1893a28f",
   "metadata": {},
   "outputs": [],
   "source": [
    "model = Generator(50,100,200)\n",
    "instancia = TSCFLPinstance(r\"C:\\Users\\Felipe\\Projetos\\TSCFLP\\Instances\\PSC1-C1-50.txt\")\n",
    "decoder = greedy_decoder(instancia)\n",
    "evaluator = evaluator_Best_Mean(decoder)\n",
    "lr = 0.01\n",
    "optimizer = torch.optim.SGD(model.parameters(),lr=lr)\n",
    "Epochs = 300"
   ]
  },
  {
   "cell_type": "code",
   "execution_count": null,
   "id": "2ca35f68",
   "metadata": {},
   "outputs": [],
   "source": [
    "def train_loop(model,evaluator,optimizer,Epochs):\n",
    "    epochs_loss = []\n",
    "    \n",
    "    \n",
    "    for epoch in range(Epochs):\n",
    "        ruido = torch.randn(150)\n",
    "        population = model(ruido)\n",
    "        \n",
    "  \n",
    "        optimizer.zero_grad()\n",
    "        loss = evaluator(population)\n",
    "        loss.requires_grad_()\n",
    "        \n",
    "        loss.backward()\n",
    "        \n",
    "        optimizer.step()\n",
    "        epochs_loss.append(loss.item())\n",
    "        \n",
    "        if epoch%10==0:\n",
    "            print(f'Melhor individuo:{evaluator.best_fit} Média da população: {evaluator.mean_current_pop}')\n",
    "    return epochs_loss,evaluator"
   ]
  },
  {
   "cell_type": "code",
   "execution_count": null,
   "id": "070ba1fd",
   "metadata": {},
   "outputs": [],
   "source": []
  }
 ],
 "metadata": {
  "kernelspec": {
   "display_name": "Python 3 (ipykernel)",
   "language": "python",
   "name": "python3"
  },
  "language_info": {
   "codemirror_mode": {
    "name": "ipython",
    "version": 3
   },
   "file_extension": ".py",
   "mimetype": "text/x-python",
   "name": "python",
   "nbconvert_exporter": "python",
   "pygments_lexer": "ipython3",
   "version": "3.11.5"
  }
 },
 "nbformat": 4,
 "nbformat_minor": 5
}
