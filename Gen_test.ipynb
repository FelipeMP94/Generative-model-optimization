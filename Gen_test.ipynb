{
 "cells": [
  {
   "cell_type": "code",
   "execution_count": 1,
   "id": "d67fa311",
   "metadata": {},
   "outputs": [],
   "source": [
    "import sys\n",
    "sys.path.insert(1,'./Instances_decoders')\n",
    "sys.path.insert(1,'./Instances_models')\n",
    "sys.path.insert(1,'./Evaluators')\n",
    "from TSCFLP_greedy_decoder import greedy_decoder\n",
    "from TSCFLP_instance import TSCFLPinstance\n",
    "from evaluators import evaluator_Best_Mean\n",
    "import torch\n",
    "import torch.nn as nn\n",
    "import numpy as np\n",
    "import matplotlib.pyplot as plt"
   ]
  },
  {
   "cell_type": "code",
   "execution_count": 2,
   "id": "189f42f4",
   "metadata": {},
   "outputs": [],
   "source": [
    "class Generator(nn.Module):\n",
    "    def __init__(self,I,J,population):\n",
    "        super().__init__()\n",
    "        self.population = population\n",
    "        self.chromosome_size = I+J\n",
    "        self.rede =nn.Sequential(\n",
    "            nn.Linear(self.chromosome_size,self.chromosome_size),\n",
    "            nn.ReLU(),\n",
    "            nn.Linear(self.chromosome_size,self.chromosome_size*self.population),\n",
    "            nn.Sigmoid()\n",
    "        )\n",
    "    def forward(self,ruido):\n",
    "        x = self.rede(ruido)\n",
    "        x = torch.reshape(x,(self.population,150))\n",
    "        return x\n",
    "        \n",
    "        "
   ]
  },
  {
   "cell_type": "code",
   "execution_count": 3,
   "id": "1893a28f",
   "metadata": {},
   "outputs": [],
   "source": [
    "model = Generator(50,100,200)\n",
    "instancia = TSCFLPinstance(r\"C:\\Users\\Felipe\\Projetos\\TSCFLP\\Instances\\PSC1-C1-50.txt\")\n",
    "decoder = greedy_decoder(instancia)\n",
    "evaluator = evaluator_Best_Mean(decoder)\n",
    "lr = 0.1\n",
    "optimizer = torch.optim.SGD(model.parameters(),lr=lr)\n",
    "Epochs = 500"
   ]
  },
  {
   "cell_type": "code",
   "execution_count": 8,
   "id": "2ca35f68",
   "metadata": {},
   "outputs": [],
   "source": [
    "def train_loop(model,evaluator,optimizer,Epochs):\n",
    "    epochs_loss = []\n",
    "    \n",
    "    \n",
    "    for epoch in range(Epochs):\n",
    "        ruido = torch.randn(150)\n",
    "        population = model(ruido)\n",
    "        \n",
    "  \n",
    "        optimizer.zero_grad()\n",
    " \n",
    "        loss = evaluator(population)\n",
    "        loss.requires_grad_()\n",
    "        \n",
    "        loss.backward()\n",
    "        \n",
    "        optimizer.step()\n",
    "        epochs_loss.append(loss.item())\n",
    "        \n",
    "        if epoch%10==0:\n",
    "            print(f'Melhor individuo:{evaluator.best_fit} Média da população: {evaluator.mean_current_pop}')\n",
    "    return epochs_loss,evaluator"
   ]
  },
  {
   "cell_type": "code",
   "execution_count": 12,
   "id": "05aa196f",
   "metadata": {},
   "outputs": [
    {
     "name": "stdout",
     "output_type": "stream",
     "text": [
      "[(1009248, 122), (1008598, 110), (1004252, 156), (1003397, 160), (1000316, 149), (999893, 94), (998437, 162), (998212, 50), (998114, 61), (996666, 78), (994848, 152), (992159, 167), (991415, 86), (989994, 130), (989970, 150), (989838, 165), (989800, 146), (988832, 179), (987826, 25), (984485, 79), (984395, 195), (983860, 123), (982874, 85), (982441, 66), (981287, 116), (981085, 142), (980821, 52), (980244, 157), (979830, 74), (978525, 51), (977878, 176), (976746, 48), (975828, 98), (975578, 141), (974439, 131), (974416, 173), (974087, 42), (973196, 164), (971964, 9), (971769, 168), (970619, 175), (970564, 181), (970451, 158), (969859, 137), (968263, 153), (967589, 139), (966725, 99), (966663, 124), (966406, 63), (966378, 10), (965164, 114), (964669, 132), (963556, 58), (962846, 69), (961988, 126), (961907, 147), (961875, 148), (961855, 91), (961784, 95), (961655, 182), (960982, 109), (959852, 70), (959740, 194), (959177, 6), (959033, 199), (959023, 46), (957666, 72), (956973, 14), (956585, 188), (955728, 151), (955127, 115), (953850, 40), (953674, 1), (953331, 68), (953273, 111), (953019, 103), (952678, 4), (952596, 55), (952265, 22), (952251, 198), (951494, 71), (950654, 56), (950271, 45), (949980, 89), (949741, 119), (948193, 24), (947385, 191), (947180, 128), (946943, 172), (946514, 155), (946504, 82), (946281, 29), (945643, 20), (945332, 60), (945140, 108), (945091, 35), (944280, 105), (943804, 134), (943506, 107), (943138, 144), (942931, 44), (941879, 159), (941581, 15), (941325, 112), (940807, 57), (940476, 196), (940276, 3), (939304, 17), (938821, 187), (938576, 193), (938340, 67), (937991, 31), (937809, 143), (937754, 180), (937471, 39), (937449, 54), (935772, 163), (935585, 43), (935501, 83), (935253, 96), (935037, 121), (934457, 11), (934255, 37), (933934, 138), (933841, 100), (933734, 13), (933724, 192), (933435, 135), (931702, 133), (931367, 113), (931259, 59), (931118, 0), (930379, 30), (930247, 185), (929921, 171), (929591, 21), (929576, 161), (929354, 145), (928640, 84), (928090, 2), (927508, 184), (926959, 65), (926923, 33), (926870, 183), (926631, 106), (925648, 118), (925430, 19), (924738, 190), (924536, 7), (924503, 140), (923757, 75), (923466, 120), (922517, 36), (922500, 93), (922037, 64), (921462, 136), (920835, 62), (920812, 154), (920271, 88), (920030, 178), (920004, 16), (919885, 90), (919629, 53), (918397, 189), (918377, 81), (918324, 76), (918081, 41), (917516, 169), (917148, 92), (916795, 197), (916057, 186), (915035, 170), (914249, 23), (913767, 127), (913714, 32), (912026, 125), (912001, 80), (911505, 18), (910466, 129), (910462, 166), (909640, 102), (909575, 73), (908995, 8), (908876, 104), (908683, 12), (908426, 5), (907655, 117), (904883, 97), (898697, 49), (896670, 87), (896149, 47), (895428, 34), (893584, 77), (889126, 101), (888555, 28), (888009, 27), (885603, 26), (877028, 38), (870616, 177), (868335, 174)]\n"
     ]
    }
   ],
   "source": [
    "ruido = torch.randn(150)\n",
    "population = model(ruido)\n",
    "t = evaluator.best_chromossome(population)\n",
    "print(t)"
   ]
  },
  {
   "cell_type": "code",
   "execution_count": 14,
   "id": "c34b50f0",
   "metadata": {},
   "outputs": [],
   "source": [
    "best = population[174]"
   ]
  },
  {
   "cell_type": "code",
   "execution_count": 17,
   "id": "14ac4d87",
   "metadata": {},
   "outputs": [
    {
     "name": "stdout",
     "output_type": "stream",
     "text": [
      "tensor([0.4032, 0.5179, 0.5873, 0.4831, 0.5481, 0.5190, 0.5950, 0.5136, 0.4594,\n",
      "        0.4951, 0.5486, 0.4288, 0.4777, 0.4564, 0.4125, 0.4995, 0.4633, 0.4884,\n",
      "        0.4805, 0.4027, 0.5687, 0.6138, 0.4690, 0.4392, 0.4201, 0.3802, 0.5458,\n",
      "        0.4720, 0.5250, 0.5819, 0.4902, 0.5111, 0.4916, 0.5870, 0.4884, 0.4161,\n",
      "        0.4912, 0.6003, 0.4856, 0.4958, 0.4574, 0.4806, 0.4618, 0.4083, 0.4341,\n",
      "        0.4541, 0.4763, 0.4662, 0.5222, 0.4621, 0.4330, 0.4434, 0.4915, 0.4482,\n",
      "        0.4982, 0.5397, 0.5087, 0.4716, 0.5785, 0.4874, 0.5281, 0.4700, 0.5306,\n",
      "        0.5359, 0.5364, 0.4889, 0.5644, 0.4544, 0.4446, 0.4392, 0.4586, 0.3995,\n",
      "        0.3644, 0.5124, 0.5161, 0.4517, 0.4885, 0.5038, 0.4254, 0.4992, 0.4542,\n",
      "        0.4408, 0.3745, 0.4168, 0.5570, 0.6625, 0.6119, 0.6121, 0.4344, 0.5319,\n",
      "        0.5116, 0.5744, 0.5124, 0.4472, 0.4477, 0.5078, 0.5652, 0.5163, 0.4494,\n",
      "        0.4196, 0.5265, 0.5105, 0.5988, 0.5914, 0.4888, 0.4149, 0.4737, 0.4145,\n",
      "        0.4609, 0.4086, 0.4873, 0.5368, 0.4448, 0.5179, 0.4006, 0.5661, 0.5314,\n",
      "        0.5992, 0.5017, 0.5542, 0.5767, 0.5326, 0.5514, 0.5348, 0.4735, 0.4059,\n",
      "        0.5512, 0.4242, 0.4077, 0.4868, 0.4250, 0.5547, 0.4752, 0.4713, 0.4725,\n",
      "        0.5966, 0.4783, 0.4924, 0.5646, 0.4790, 0.4311, 0.4835, 0.5340, 0.5374,\n",
      "        0.4659, 0.4351, 0.5374, 0.4023, 0.4876, 0.5948],\n",
      "       grad_fn=<SelectBackward0>)\n"
     ]
    }
   ],
   "source": [
    "print(best)"
   ]
  },
  {
   "cell_type": "code",
   "execution_count": 20,
   "id": "c46fa378",
   "metadata": {},
   "outputs": [],
   "source": [
    "loss = []\n",
    "func = torch.nn.MSELoss()\n",
    "for i in range(len(population)):\n",
    "    loss.append(func(best,population[i]))"
   ]
  },
  {
   "cell_type": "code",
   "execution_count": 22,
   "id": "c01ef8b8",
   "metadata": {},
   "outputs": [
    {
     "name": "stdout",
     "output_type": "stream",
     "text": [
      "200\n"
     ]
    }
   ],
   "source": [
    "print(len(population))"
   ]
  },
  {
   "cell_type": "code",
   "execution_count": 23,
   "id": "119b478a",
   "metadata": {},
   "outputs": [
    {
     "name": "stdout",
     "output_type": "stream",
     "text": [
      "tensor(0., grad_fn=<MseLossBackward0>)\n"
     ]
    }
   ],
   "source": [
    "print(loss[174])"
   ]
  },
  {
   "cell_type": "code",
   "execution_count": null,
   "id": "de3a3905",
   "metadata": {},
   "outputs": [],
   "source": [
    "import matplotlib.pyplot as plt\n",
    "plt.plot(epoch_loss)"
   ]
  },
  {
   "cell_type": "code",
   "execution_count": null,
   "id": "bd486117",
   "metadata": {},
   "outputs": [],
   "source": [
    "plt.plot(evaluator.epochs_mean_fit)"
   ]
  },
  {
   "cell_type": "code",
   "execution_count": null,
   "id": "4b8e82da",
   "metadata": {},
   "outputs": [],
   "source": []
  }
 ],
 "metadata": {
  "kernelspec": {
   "display_name": "Python 3 (ipykernel)",
   "language": "python",
   "name": "python3"
  },
  "language_info": {
   "codemirror_mode": {
    "name": "ipython",
    "version": 3
   },
   "file_extension": ".py",
   "mimetype": "text/x-python",
   "name": "python",
   "nbconvert_exporter": "python",
   "pygments_lexer": "ipython3",
   "version": "3.11.8"
  }
 },
 "nbformat": 4,
 "nbformat_minor": 5
}
