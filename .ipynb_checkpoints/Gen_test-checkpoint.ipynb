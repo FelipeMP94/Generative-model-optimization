{
 "cells": [
  {
   "cell_type": "code",
   "execution_count": 1,
   "id": "d67fa311",
   "metadata": {},
   "outputs": [],
   "source": [
    "import sys\n",
    "sys.path.insert(1,'./Instances_decoders')\n",
    "sys.path.insert(1,'./Instances_models')\n",
    "sys.path.insert(1,'./Evaluators')\n",
    "from TSCFLP_greedy_decoder import greedy_decoder\n",
    "from TSCFLP_instance import TSCFLPinstance\n",
    "from evaluators import evaluator_Best_Mean\n",
    "import torch\n",
    "import torch.nn as nn\n",
    "import numpy as np\n",
    "import matplotlib.pyplot as plt"
   ]
  },
  {
   "cell_type": "code",
   "execution_count": 2,
   "id": "189f42f4",
   "metadata": {},
   "outputs": [],
   "source": [
    "class Generator(nn.Module):\n",
    "    def __init__(self,I,J,population):\n",
    "        super().__init__()\n",
    "        self.population = population\n",
    "        self.chromosome_size = I+J\n",
    "        self.rede =nn.Sequential(\n",
    "            nn.Linear(self.chromosome_size,self.chromosome_size),\n",
    "            nn.ReLU(),\n",
    "            nn.Linear(self.chromosome_size,self.chromosome_size*self.population),\n",
    "            nn.Sigmoid()\n",
    "        )\n",
    "    def forward(self,ruido):\n",
    "        x = self.rede(ruido)\n",
    "        x = torch.reshape(x,(self.population,150))\n",
    "        return x\n",
    "        \n",
    "        "
   ]
  },
  {
   "cell_type": "code",
   "execution_count": 3,
   "id": "1893a28f",
   "metadata": {},
   "outputs": [],
   "source": [
    "model = Generator(50,100,200)\n",
    "instancia = TSCFLPinstance(r\"C:\\Users\\Felipe\\Projetos\\TSCFLP\\Instances\\PSC1-C1-50.txt\")\n",
    "decoder = greedy_decoder(instancia)\n",
    "evaluator = evaluator_Best_Mean(decoder)\n",
    "lr = 0.1\n",
    "optimizer = torch.optim.SGD(model.parameters(),lr=lr)\n",
    "Epochs = 500"
   ]
  },
  {
   "cell_type": "code",
   "execution_count": null,
   "id": "122713d5",
   "metadata": {},
   "outputs": [],
   "source": [
    " def best_chromossome(self,population):\n",
    "        ch_fit = []\n",
    "        for index,chromosome in enumerate(population):\n",
    "            fit = self.decoder.decode(chromosome,True)\n",
    "            ch_fit.append((fit,index))\n",
    "            ch_fit.sort(reverse=True)\n",
    "        return ch_fit"
   ]
  },
  {
   "cell_type": "code",
   "execution_count": 4,
   "id": "2ca35f68",
   "metadata": {},
   "outputs": [],
   "source": [
    "def train_loop(model,evaluator,optimizer,Epochs):\n",
    "    epochs_loss = []\n",
    "    \n",
    "    \n",
    "    for epoch in range(Epochs):\n",
    "        ruido = torch.randn(150)\n",
    "        population = model(ruido)\n",
    "        \n",
    "  \n",
    "        optimizer.zero_grad()\n",
    "        ord = best_choromossome(population)\n",
    "        break\n",
    "        loss = evaluator(population)\n",
    "        loss.requires_grad_()\n",
    "        \n",
    "        loss.backward()\n",
    "        \n",
    "        optimizer.step()\n",
    "        epochs_loss.append(loss.item())\n",
    "        \n",
    "        if epoch%10==0:\n",
    "            print(f'Melhor individuo:{evaluator.best_fit} Média da população: {evaluator.mean_current_pop}')\n",
    "    return epochs_loss,evaluator"
   ]
  },
  {
   "cell_type": "code",
   "execution_count": 6,
   "id": "24e964f6",
   "metadata": {},
   "outputs": [
    {
     "name": "stdout",
     "output_type": "stream",
     "text": [
      "<built-in function ord>\n"
     ]
    }
   ],
   "source": [
    "print(ord)"
   ]
  },
  {
   "cell_type": "code",
   "execution_count": null,
   "id": "070ba1fd",
   "metadata": {},
   "outputs": [],
   "source": [
    "epoch_loss,evaluator =  train_loop(model,evaluator,optimizer,Epochs)"
   ]
  },
  {
   "cell_type": "code",
   "execution_count": null,
   "id": "de3a3905",
   "metadata": {},
   "outputs": [],
   "source": [
    "import matplotlib.pyplot as plt\n",
    "plt.plot(epoch_loss)"
   ]
  },
  {
   "cell_type": "code",
   "execution_count": null,
   "id": "bd486117",
   "metadata": {},
   "outputs": [],
   "source": [
    "plt.plot(evaluator.epochs_mean_fit)"
   ]
  },
  {
   "cell_type": "code",
   "execution_count": null,
   "id": "4b8e82da",
   "metadata": {},
   "outputs": [],
   "source": []
  }
 ],
 "metadata": {
  "kernelspec": {
   "display_name": "Python 3 (ipykernel)",
   "language": "python",
   "name": "python3"
  },
  "language_info": {
   "codemirror_mode": {
    "name": "ipython",
    "version": 3
   },
   "file_extension": ".py",
   "mimetype": "text/x-python",
   "name": "python",
   "nbconvert_exporter": "python",
   "pygments_lexer": "ipython3",
   "version": "3.11.8"
  }
 },
 "nbformat": 4,
 "nbformat_minor": 5
}
