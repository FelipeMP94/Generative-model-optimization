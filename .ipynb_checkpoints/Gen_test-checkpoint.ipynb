{
 "cells": [
  {
   "cell_type": "code",
   "execution_count": 1,
   "id": "d67fa311",
   "metadata": {},
   "outputs": [],
   "source": [
    "from TSCFLP_instance import TSCFLPinstance\n",
    "from instance-decoderTSCFLP_greedy_decoder import greedy_decoder\n",
    "import torch\n",
    "import torch.nn as nn\n",
    "import numpy as np"
   ]
  },
  {
   "cell_type": "code",
   "execution_count": 2,
   "id": "189f42f4",
   "metadata": {},
   "outputs": [],
   "source": [
    "class Generator(nn.Module):\n",
    "    def __init__(self,I,J,population):\n",
    "        super().__init__()\n",
    "        self.population = population\n",
    "        self.rede = nn.Sequential(\n",
    "            nn.Linear(I+J,200),\n",
    "            nn.ReLU(),\n",
    "            nn.Linear(200,300),\n",
    "            nn.ReLU(),\n",
    "            nn.Linear(300,300),\n",
    "            nn.ReLU(),\n",
    "            nn.Linear(300,(I+J)*population),\n",
    "            nn.Sigmoid()\n",
    "        )\n",
    "    def forward(self,ruido):\n",
    "        x = self.rede(ruido)\n",
    "        x = torch.reshape(x,(self.population,150))\n",
    "        return x\n",
    "        \n",
    "        "
   ]
  },
  {
   "cell_type": "code",
   "execution_count": 3,
   "id": "c840e174",
   "metadata": {},
   "outputs": [],
   "source": [
    "class evaluate_population(nn.Module):\n",
    "    def __init__(self,decoder):\n",
    "        super(evaluate_population,self).__init__()\n",
    "        self.is_inicialized = False \n",
    "        self.decoder = decoder\n",
    "        self.best_fit = 0\n",
    "        self.mean_current_pop= 0\n",
    "        self.epochs_best_fit = []\n",
    "        self.epochs_mean_fit = []\n",
    "        \n",
    "        \n",
    "        \n",
    "    def _loss(self,melhor,media):\n",
    "        x = (melhor-media)/media\n",
    "        loss = np.exp(-1*x)\n",
    "        return loss\n",
    "        \n",
    "        \n",
    "\n",
    "        \n",
    "    \n",
    "    def forward(self,population):\n",
    "        pop_individual_fit = np.array([],dtype=int)\n",
    "        for index,chromosome in enumerate(population):\n",
    "            fit = self.decoder.decode(chromosome,True)\n",
    "            pop_individual_fit = np.append(pop_individual_fit,fit)\n",
    "        \n",
    "        if self.is_inicialized == False:\n",
    "            self.best_fit = np.min(pop_individual_fit)\n",
    "            self.mean_current_pop = np.mean(pop_individual_fit)\n",
    "                \n",
    "            self.epochs_best_fit.append(self.best_fit)\n",
    "            self.epochs_mean_fit.append(self.mean_current_pop)\n",
    "            \n",
    "    \n",
    "            loss = self._loss(self.best_fit,self.mean_current_pop)\n",
    "            \n",
    "            \n",
    "    \n",
    "            self.is_inicialized = True\n",
    "        else:\n",
    "            self.mean_current_pop = np.mean(pop_individual_fit)\n",
    "            self.epochs_mean_fit.append(self.mean_current_pop)\n",
    "     \n",
    "            \n",
    "            loss = self._loss(self.best_fit,self.mean_current_pop)\n",
    "            \n",
    "            best_individual_fit = np.min(pop_individual_fit)\n",
    "                          \n",
    "            if best_individual_fit < self.best_fit:\n",
    "                self.best_fit = best_individual_fit\n",
    "                \n",
    "                 \n",
    "        return torch.tensor([loss])"
   ]
  },
  {
   "cell_type": "code",
   "execution_count": 4,
   "id": "1893a28f",
   "metadata": {},
   "outputs": [],
   "source": [
    "model = Generator(50,100,200)\n",
    "instancia = TSCFLPinstance(r\"C:\\Users\\Felipe\\Projetos\\TSCFLP\\Instances\\PSC1-C1-50.txt\")\n",
    "decoder = greedy_decoder(instancia)\n",
    "evaluator = evaluate_population(decoder)\n",
    "lr = 0.01\n",
    "optimizer = torch.optim.SGD(model.parameters(),lr=lr)\n",
    "Epochs = 300"
   ]
  },
  {
   "cell_type": "code",
   "execution_count": 5,
   "id": "2ca35f68",
   "metadata": {},
   "outputs": [],
   "source": [
    "def train_loop(model,evaluator,optimizer,Epochs):\n",
    "    epochs_loss = []\n",
    "    \n",
    "    \n",
    "    for epoch in range(Epochs):\n",
    "        ruido = torch.randn(150)\n",
    "        population = model(ruido)\n",
    "        \n",
    "  \n",
    "        optimizer.zero_grad()\n",
    "        loss = evaluator(population)\n",
    "        loss.requires_grad_()\n",
    "        \n",
    "        loss.backward()\n",
    "        \n",
    "        optimizer.step()\n",
    "        epochs_loss.append(loss.item())\n",
    "        \n",
    "        if epoch%10==0:\n",
    "            print(f'Melhor individuo:{evaluator.best_fit} Média da população: {evaluator.mean_current_pop}')\n",
    "    return epochs_loss,evaluator"
   ]
  },
  {
   "cell_type": "code",
   "execution_count": 6,
   "id": "6aa77249",
   "metadata": {},
   "outputs": [
    {
     "name": "stdout",
     "output_type": "stream",
     "text": [
      "Melhor individuo:864315 Média da população: 940517.195\n",
      "Melhor individuo:834585 Média da população: 942860.905\n",
      "Melhor individuo:834585 Média da população: 941032.13\n",
      "Melhor individuo:834585 Média da população: 941441.175\n",
      "Melhor individuo:834585 Média da população: 940774.98\n",
      "Melhor individuo:834411 Média da população: 941311.975\n",
      "Melhor individuo:834411 Média da população: 939366.64\n",
      "Melhor individuo:834411 Média da população: 941436.68\n",
      "Melhor individuo:834411 Média da população: 938378.14\n",
      "Melhor individuo:834411 Média da população: 938327.49\n"
     ]
    },
    {
     "ename": "KeyboardInterrupt",
     "evalue": "",
     "output_type": "error",
     "traceback": [
      "\u001b[1;31m---------------------------------------------------------------------------\u001b[0m",
      "\u001b[1;31mKeyboardInterrupt\u001b[0m                         Traceback (most recent call last)",
      "Cell \u001b[1;32mIn[6], line 1\u001b[0m\n\u001b[1;32m----> 1\u001b[0m loss,evaluete \u001b[38;5;241m=\u001b[39m  train_loop(model,evaluator,optimizer,Epochs)\n",
      "Cell \u001b[1;32mIn[5], line 11\u001b[0m, in \u001b[0;36mtrain_loop\u001b[1;34m(model, evaluator, optimizer, Epochs)\u001b[0m\n\u001b[0;32m      7\u001b[0m population \u001b[38;5;241m=\u001b[39m model(ruido)\n\u001b[0;32m     10\u001b[0m optimizer\u001b[38;5;241m.\u001b[39mzero_grad()\n\u001b[1;32m---> 11\u001b[0m loss \u001b[38;5;241m=\u001b[39m evaluator(population)\n\u001b[0;32m     12\u001b[0m loss\u001b[38;5;241m.\u001b[39mrequires_grad_()\n\u001b[0;32m     14\u001b[0m loss\u001b[38;5;241m.\u001b[39mbackward()\n",
      "File \u001b[1;32m~\\anaconda3\\Lib\\site-packages\\torch\\nn\\modules\\module.py:1511\u001b[0m, in \u001b[0;36mModule._wrapped_call_impl\u001b[1;34m(self, *args, **kwargs)\u001b[0m\n\u001b[0;32m   1509\u001b[0m     \u001b[38;5;28;01mreturn\u001b[39;00m \u001b[38;5;28mself\u001b[39m\u001b[38;5;241m.\u001b[39m_compiled_call_impl(\u001b[38;5;241m*\u001b[39margs, \u001b[38;5;241m*\u001b[39m\u001b[38;5;241m*\u001b[39mkwargs)  \u001b[38;5;66;03m# type: ignore[misc]\u001b[39;00m\n\u001b[0;32m   1510\u001b[0m \u001b[38;5;28;01melse\u001b[39;00m:\n\u001b[1;32m-> 1511\u001b[0m     \u001b[38;5;28;01mreturn\u001b[39;00m \u001b[38;5;28mself\u001b[39m\u001b[38;5;241m.\u001b[39m_call_impl(\u001b[38;5;241m*\u001b[39margs, \u001b[38;5;241m*\u001b[39m\u001b[38;5;241m*\u001b[39mkwargs)\n",
      "File \u001b[1;32m~\\anaconda3\\Lib\\site-packages\\torch\\nn\\modules\\module.py:1520\u001b[0m, in \u001b[0;36mModule._call_impl\u001b[1;34m(self, *args, **kwargs)\u001b[0m\n\u001b[0;32m   1515\u001b[0m \u001b[38;5;66;03m# If we don't have any hooks, we want to skip the rest of the logic in\u001b[39;00m\n\u001b[0;32m   1516\u001b[0m \u001b[38;5;66;03m# this function, and just call forward.\u001b[39;00m\n\u001b[0;32m   1517\u001b[0m \u001b[38;5;28;01mif\u001b[39;00m \u001b[38;5;129;01mnot\u001b[39;00m (\u001b[38;5;28mself\u001b[39m\u001b[38;5;241m.\u001b[39m_backward_hooks \u001b[38;5;129;01mor\u001b[39;00m \u001b[38;5;28mself\u001b[39m\u001b[38;5;241m.\u001b[39m_backward_pre_hooks \u001b[38;5;129;01mor\u001b[39;00m \u001b[38;5;28mself\u001b[39m\u001b[38;5;241m.\u001b[39m_forward_hooks \u001b[38;5;129;01mor\u001b[39;00m \u001b[38;5;28mself\u001b[39m\u001b[38;5;241m.\u001b[39m_forward_pre_hooks\n\u001b[0;32m   1518\u001b[0m         \u001b[38;5;129;01mor\u001b[39;00m _global_backward_pre_hooks \u001b[38;5;129;01mor\u001b[39;00m _global_backward_hooks\n\u001b[0;32m   1519\u001b[0m         \u001b[38;5;129;01mor\u001b[39;00m _global_forward_hooks \u001b[38;5;129;01mor\u001b[39;00m _global_forward_pre_hooks):\n\u001b[1;32m-> 1520\u001b[0m     \u001b[38;5;28;01mreturn\u001b[39;00m forward_call(\u001b[38;5;241m*\u001b[39margs, \u001b[38;5;241m*\u001b[39m\u001b[38;5;241m*\u001b[39mkwargs)\n\u001b[0;32m   1522\u001b[0m \u001b[38;5;28;01mtry\u001b[39;00m:\n\u001b[0;32m   1523\u001b[0m     result \u001b[38;5;241m=\u001b[39m \u001b[38;5;28;01mNone\u001b[39;00m\n",
      "Cell \u001b[1;32mIn[3], line 26\u001b[0m, in \u001b[0;36mevaluate_population.forward\u001b[1;34m(self, population)\u001b[0m\n\u001b[0;32m     24\u001b[0m \u001b[38;5;28;01mfor\u001b[39;00m index,chromosome \u001b[38;5;129;01min\u001b[39;00m \u001b[38;5;28menumerate\u001b[39m(population):\n\u001b[0;32m     25\u001b[0m     fit \u001b[38;5;241m=\u001b[39m \u001b[38;5;28mself\u001b[39m\u001b[38;5;241m.\u001b[39mdecoder\u001b[38;5;241m.\u001b[39mdecode(chromosome,\u001b[38;5;28;01mTrue\u001b[39;00m)\n\u001b[1;32m---> 26\u001b[0m     pop_individual_fit \u001b[38;5;241m=\u001b[39m np\u001b[38;5;241m.\u001b[39mappend(pop_individual_fit,fit)\n\u001b[0;32m     28\u001b[0m \u001b[38;5;28;01mif\u001b[39;00m \u001b[38;5;28mself\u001b[39m\u001b[38;5;241m.\u001b[39mis_inicialized \u001b[38;5;241m==\u001b[39m \u001b[38;5;28;01mFalse\u001b[39;00m:\n\u001b[0;32m     29\u001b[0m     \u001b[38;5;28mself\u001b[39m\u001b[38;5;241m.\u001b[39mbest_fit \u001b[38;5;241m=\u001b[39m np\u001b[38;5;241m.\u001b[39mmin(pop_individual_fit)\n",
      "File \u001b[1;32m<__array_function__ internals>:177\u001b[0m, in \u001b[0;36mappend\u001b[1;34m(*args, **kwargs)\u001b[0m\n",
      "\u001b[1;31mKeyboardInterrupt\u001b[0m: "
     ]
    }
   ],
   "source": [
    "loss,evaluete =  train_loop(model,evaluator,optimizer,Epochs)"
   ]
  },
  {
   "cell_type": "code",
   "execution_count": null,
   "id": "8cd0097c",
   "metadata": {},
   "outputs": [],
   "source": [
    "import matplotlib.pyplot as plt\n",
    "\n",
    "plt.plot(loss)"
   ]
  },
  {
   "cell_type": "code",
   "execution_count": null,
   "id": "bf290323",
   "metadata": {},
   "outputs": [],
   "source": [
    "plt.plot(evaluete.epochs_mean_fit)"
   ]
  },
  {
   "cell_type": "code",
   "execution_count": null,
   "id": "070ba1fd",
   "metadata": {},
   "outputs": [],
   "source": []
  }
 ],
 "metadata": {
  "kernelspec": {
   "display_name": "Python 3 (ipykernel)",
   "language": "python",
   "name": "python3"
  },
  "language_info": {
   "codemirror_mode": {
    "name": "ipython",
    "version": 3
   },
   "file_extension": ".py",
   "mimetype": "text/x-python",
   "name": "python",
   "nbconvert_exporter": "python",
   "pygments_lexer": "ipython3",
   "version": "3.11.5"
  }
 },
 "nbformat": 4,
 "nbformat_minor": 5
}
